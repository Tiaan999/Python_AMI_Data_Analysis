{
 "cells": [
  {
   "cell_type": "code",
   "execution_count": 1,
   "metadata": {
    "collapsed": false
   },
   "outputs": [],
   "source": [
    "import pandas as pd\n",
    "import numpy as np\n",
    "import seaborn as sns\n",
    "import matplotlib.pyplot as plt\n",
    "from scipy.interpolate import interp1d"
   ]
  },
  {
   "cell_type": "code",
   "execution_count": 2,
   "metadata": {
    "collapsed": false
   },
   "outputs": [],
   "source": [
    "values = np.genfromtxt('C:\\Users\\WillemT\\Documents\\Work\\Projects\\Projects 2015\\Trescimo - Home Energy Management\\\\\n",
    "Results_Analysis\\AMI Data Analysis\\Python\\Combined_AMI_Consumption_Data.csv', delimiter=',')"
   ]
  },
  {
   "cell_type": "code",
   "execution_count": 3,
   "metadata": {
    "collapsed": false
   },
   "outputs": [],
   "source": [
    "#df = pd.read_csv('C:\\Users\\WillemT\\Documents\\Work\\Projects\\Projects 2015\\Trescimo - Home Energy Management\\Results_Analysis\\\\\n",
    "#AMI Data Analysis\\Python\\Combined_AMI_Consumption_Data.csv')\n",
    "#label = df.transpose()[0:1].values\n",
    "\n",
    "#def remove_time(item):\n",
    "#    return [item[0][:10]]\n",
    "#dates = [np.unique(pd.DataFrame(label).apply(remove_time).values[0])]\n",
    "\n",
    "times = [['00:00','','','','','','03:00','','','','','','06:00','','','','','','09:00','','','','','','12:00','','','','','',\n",
    "          '15:00','','','','','','18:00','','','','','','21:00','','','','','']]\n",
    "\n",
    "times_t = zip(*times)\n",
    "j = 0\n",
    "for i in times_t:\n",
    "    times_t[j] = i[0]\n",
    "    j += 1"
   ]
  },
  {
   "cell_type": "code",
   "execution_count": 4,
   "metadata": {
    "collapsed": false
   },
   "outputs": [],
   "source": [
    "#letters = ['A','B','C','D','E','F','G','H','I','J','K','L','M','N','O','P','Q','R','S','T','U','V']\n",
    "\n",
    "daily_winter = np.zeros((22,48),dtype='f8')\n",
    "daily_autumn = np.zeros((22,48),dtype='f8')\n",
    "daily_summer = np.zeros((22,48),dtype='f8')\n",
    "daily_spring = np.zeros((22,48),dtype='f8')\n",
    "\n",
    "for i in range(0,22):\n",
    "    j = i + 1\n",
    "    values_R = pd.DataFrame(values[1:,j:j+1].reshape(len(values[1:,j:j+1])/48,48))\n",
    "    #values_R.index = dates\n",
    "    #values_R.columns = times\n",
    "    #plt.figure(figsize=(16, 8))\n",
    "    #plt.suptitle('Customer ' + letters[i], fontsize=20)\n",
    "    #fig1 = plt.subplot(1,2,1)\n",
    "    #fig1.set_title(\"Seasonal daily consumption comparison\")\n",
    "    #plt.xlabel('Day in the quarter')\n",
    "    #plt.ylabel('Total daily consumption')\n",
    "\n",
    "    #values_R.sum(axis=1)[len(values_R)-90*2-45:len(values_R)-90-45].transpose().plot(label='Winter', color='b')\n",
    "    #values_R.sum(axis=1)[len(values_R)-90*3-45:len(values_R)-90*2-45].transpose().plot(label='Autumn', color='g')\n",
    "    #values_R.sum(axis=1)[len(values_R)-90*4-45:len(values_R)-90*3-45].transpose().plot(label='Summer', color='r')\n",
    "    #values_R.sum(axis=1)[len(values_R)-90-45:len(values_R)-45].transpose().plot(label='Spring', color='c')\n",
    "    #plt.legend(loc='upper left')\n",
    "    #plt.xticks(range(0))\n",
    "\n",
    "    #fig2 = plt.subplot(1,2,2)\n",
    "    #fig2.set_title(\"Seasonal average hourly energy consumption comparison\")\n",
    "    #plt.xlabel('Time of day')\n",
    "    #plt.ylabel('Average consumption per hour')\n",
    "\n",
    "    #x = np.linspace(0, 47, 48)\n",
    "    #x_n = np.linspace(0, 47, 480)\n",
    "\n",
    "    day_winter = (values_R[len(values_R)-90*2-45:len(values_R)-90-45].mean(axis=0)*2).values.transpose()\n",
    "    #day_winter_cor = interp1d(x, day_winter, kind='cubic')\n",
    "    #plt.plot(x_n, day_winter_cor(x_n), label='Winter', color='b')\n",
    "    daily_winter[i] = day_winter\n",
    "    day_autumn = (values_R[len(values_R)-90*3-45:len(values_R)-90*2-45].mean(axis=0)*2).values.transpose()\n",
    "    #day_autumn_cor = interp1d(x, day_autumn, kind='cubic')\n",
    "    #plt.plot(x_n, day_autumn_cor(x_n), label='Autumn', color='g')\n",
    "    daily_autumn[i] = day_autumn\n",
    "    day_summer = (values_R[len(values_R)-90*4-45:len(values_R)-90*3-45].mean(axis=0)*2).values.transpose()\n",
    "    #day_summer_cor = interp1d(x, day_summer, kind='cubic')\n",
    "    #plt.plot(x_n, day_summer_cor(x_n), label='Summer', color='r')\n",
    "    daily_summer[i] = day_summer\n",
    "    day_spring = (values_R[len(values_R)-90-45:len(values_R)-45].mean(axis=0)*2).values.transpose()\n",
    "    #day_spring_cor = interp1d(x, day_spring, kind='cubic')\n",
    "    #plt.plot(x_n, day_spring_cor(x_n), label='Spring', color='c')\n",
    "    daily_spring[i] = day_spring\n",
    "    #plt.legend(loc='upper left')\n",
    "    #plt.xticks(x, times_t)\n",
    "    #plt.xlim([0,47])\n",
    "    #plt.savefig(\"Customer\" + letters[i] + \".png\",dpi=500)\n",
    "    \n",
    "#%matplotlib inline\n",
    "cumulative_daily_winter = np.zeros((1,48),dtype='f8')\n",
    "cumulative_daily_autumn = np.zeros((1,48),dtype='f8')\n",
    "cumulative_daily_summer = np.zeros((1,48),dtype='f8')\n",
    "cumulative_daily_spring = np.zeros((1,48),dtype='f8')\n",
    "for i in range(0,len(daily_winter[0,:])):\n",
    "    cumulative_daily_winter[:,i] = np.average(daily_winter[:,i])\n",
    "    cumulative_daily_autumn[:,i] = np.average(daily_autumn[:,i])\n",
    "    cumulative_daily_summer[:,i] = np.average(daily_summer[:,i])\n",
    "    cumulative_daily_spring[:,i] = np.average(daily_spring[:,i])\n",
    "\n",
    "x = np.linspace(0, 47, 48)\n",
    "x_n = np.linspace(0, 47, 480)\n",
    "\n",
    "plt.figure(figsize=(16, 8))\n",
    "plt.xlabel('Time of day')\n",
    "plt.ylabel('Average consumption per hour')\n",
    "plt.title(\"Cumulative average hourly energy consumption - Seasonal Comparison\", size=20)\n",
    "cumulative_daily_winter_cor = interp1d(x, cumulative_daily_winter[0], kind='cubic')\n",
    "plt.plot(x_n, cumulative_daily_winter_cor(x_n), label='Winter', color='b')\n",
    "cumulative_daily_autumn_cor = interp1d(x, cumulative_daily_autumn[0], kind='cubic')\n",
    "plt.plot(x_n, cumulative_daily_autumn_cor(x_n), label='Autumn', color='g')\n",
    "cumulative_daily_summer_cor = interp1d(x, cumulative_daily_summer[0], kind='cubic')\n",
    "plt.plot(x_n, cumulative_daily_summer_cor(x_n), label='Summer', color='r')\n",
    "cumulative_daily_spring_cor = interp1d(x, cumulative_daily_spring[0], kind='cubic')\n",
    "plt.plot(x_n, cumulative_daily_spring_cor(x_n), label='Spring', color='c')\n",
    "plt.legend(loc='upper left')\n",
    "plt.xticks(x, times_t)\n",
    "plt.xlim([0,47])\n",
    "plt.savefig(\"Cumulative_average_hourly_energy_consumption_Seasonal_Comparison.png\",dpi=500)"
   ]
  },
  {
   "cell_type": "code",
   "execution_count": null,
   "metadata": {
    "collapsed": true
   },
   "outputs": [],
   "source": []
  }
 ],
 "metadata": {
  "kernelspec": {
   "display_name": "Python 2",
   "language": "python",
   "name": "python2"
  },
  "language_info": {
   "codemirror_mode": {
    "name": "ipython",
    "version": 2
   },
   "file_extension": ".py",
   "mimetype": "text/x-python",
   "name": "python",
   "nbconvert_exporter": "python",
   "pygments_lexer": "ipython2",
   "version": "2.7.11"
  }
 },
 "nbformat": 4,
 "nbformat_minor": 0
}
